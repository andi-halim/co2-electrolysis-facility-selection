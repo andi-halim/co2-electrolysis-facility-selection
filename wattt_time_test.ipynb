{
 "cells": [
  {
   "cell_type": "markdown",
   "id": "7dd30a3d",
   "metadata": {},
   "source": [
    "### Watttime Attempts"
   ]
  },
  {
   "cell_type": "code",
   "execution_count": null,
   "id": "91403ac9",
   "metadata": {},
   "outputs": [
    {
     "name": "stdout",
     "output_type": "stream",
     "text": [
      "Obtained Watttime API token.\n"
     ]
    }
   ],
   "source": [
    "from dotenv import load_dotenv\n",
    "import os\n",
    "load_dotenv()\n",
    "\n",
    "import requests\n",
    "from requests.auth import HTTPBasicAuth\n",
    "import os\n",
    "\n",
    "login_url = 'https://api.watttime.org/login'\n",
    "WATTTIME_USERNAME = os.getenv(\"WATTTIME_USERNAME\")\n",
    "WATTTIME_PASSWORD = os.getenv(\"WATTTIME_PASSWORD\")\n",
    "\n",
    "def login_to_watttime(username, password):\n",
    "    rsp = requests.get(login_url, auth=HTTPBasicAuth(WATTTIME_USERNAME, WATTTIME_PASSWORD))\n",
    "    TOKEN = rsp.json()['token']\n",
    "    if TOKEN is None:\n",
    "        raise ValueError(\"Failed to obtain Watttime API token. Check your credentials.\")\n",
    "    print(\"Obtained Watttime API token.\")\n",
    "    return TOKEN\n",
    "\n",
    "TOKEN = login_to_watttime(WATTTIME_USERNAME, WATTTIME_PASSWORD)"
   ]
  },
  {
   "cell_type": "code",
   "execution_count": null,
   "id": "a1f8f4b5",
   "metadata": {},
   "outputs": [
    {
     "name": "stdout",
     "output_type": "stream",
     "text": [
      "{'signal_types': [{'signal_type': 'co2_moer', 'regions': [{'region': 'CAISO_NORTH', 'region_full_name': 'California ISO Northern', 'parent': 'CAISO', 'data_point_period_seconds': 300, 'endpoints': [{'endpoint': 'v3/historical', 'models': [{'model': '2022-10-01', 'data_start': '2020-01-01', 'data_end': '2024-12-04', 'train_start': '2020-03-01', 'train_end': '2022-03-01', 'type': 'binned_regression'}, {'model': '2023-03-01', 'data_start': '2020-03-01', 'data_end': None, 'train_start': '2021-01-01', 'train_end': '2023-03-01', 'type': 'binned_regression'}]}, {'endpoint': 'v3/forecast', 'models': [{'model': '2022-10-01', 'data_start': '2022-10-01', 'data_end': '2024-11-20', 'train_start': '2020-01-01', 'train_end': '2021-12-31', 'historical_model': '2022-10-01'}, {'model': '2023-03-01', 'data_start': '2023-03-01', 'data_end': None, 'train_start': '2021-01-01', 'train_end': '2023-01-01', 'historical_model': '2023-03-01'}]}]}]}, {'signal_type': 'health_damage', 'regions': [{'region': 'CAISO_NORTH', 'region_full_name': 'California ISO Northern', 'parent': 'CAISO', 'data_point_period_seconds': 300, 'endpoints': [{'endpoint': 'v3/historical', 'models': [{'model': '2022-10-01', 'data_start': '2020-01-01', 'data_end': None, 'train_start': '2020-03-01', 'train_end': '2022-03-01', 'type': 'binned_regression'}]}, {'endpoint': 'v3/forecast', 'models': [{'model': '2022-10-01', 'data_start': '2022-10-01', 'data_end': None, 'train_start': '2020-01-01', 'train_end': '2021-12-31', 'historical_model': '2022-10-01'}]}]}]}]}\n"
     ]
    }
   ],
   "source": [
    "headers = {\"Authorization\": f\"Bearer {TOKEN}\"}\n",
    "params = {}\n",
    "response = requests.get(\"https://api.watttime.org/v3/my-access\", headers=headers, params=params)\n",
    "response.raise_for_status()\n",
    "print(response.json())"
   ]
  },
  {
   "cell_type": "code",
   "execution_count": null,
   "id": "6665e1db",
   "metadata": {},
   "outputs": [],
   "source": [
    "candidates_sample = candidates.head(5)"
   ]
  },
  {
   "cell_type": "code",
   "execution_count": null,
   "id": "69b87185",
   "metadata": {},
   "outputs": [],
   "source": [
    "def get_region_from_loc(lat, lon, signal_type=\"co2_moer\"):\n",
    "    try:\n",
    "        url = \"https://api.watttime.org/v3/region-from-loc\"\n",
    "        headers = {\"Authorization\": f\"Bearer {TOKEN}\"}\n",
    "        params = {\"latitude\": lat, \"longitude\":lon, \"signal_type\": signal_type}\n",
    "        response = requests.get(url, headers=headers, params=params)\n",
    "        response.raise_for_status()\n",
    "    except requests.exceptions.HTTPError as http_err:\n",
    "        print(f\"HTTP error occurred: {http_err}. Try logging in again.\")\n",
    "        return None\n",
    "    return response.json()"
   ]
  },
  {
   "cell_type": "code",
   "execution_count": null,
   "id": "78720eb7",
   "metadata": {},
   "outputs": [
    {
     "name": "stdout",
     "output_type": "stream",
     "text": [
      "HTTP error occurred: 404 Client Error: Not Found for url: https://api.watttime.org/v3/region-from-loc?latitude=33.29857&longitude=33.29857&signal_type=co2_moer. Try logging in again.\n"
     ]
    },
    {
     "data": {
      "text/plain": [
       "[None,\n",
       " {'region': 'EGY', 'region_full_name': 'Egypt', 'signal_type': 'co2_moer'},\n",
       " {'region': 'EGY', 'region_full_name': 'Egypt', 'signal_type': 'co2_moer'},\n",
       " {'region': 'EGY', 'region_full_name': 'Egypt', 'signal_type': 'co2_moer'},\n",
       " {'region': 'EGY', 'region_full_name': 'Egypt', 'signal_type': 'co2_moer'}]"
      ]
     },
     "metadata": {},
     "output_type": "display_data"
    }
   ],
   "source": [
    "regions = [get_region_from_loc(lat, long) for lat, long in zip(candidates_sample['LATITUDE'], candidates_sample['LATITUDE'])]\n",
    "regions"
   ]
  },
  {
   "cell_type": "code",
   "execution_count": null,
   "id": "71f58f05",
   "metadata": {},
   "outputs": [
    {
     "ename": "HTTPError",
     "evalue": "401 Client Error: Unauthorized for url: https://api.watttime.org/v3/forecast?region=CAISO_NORTH&signal_type=co2_moer",
     "output_type": "error",
     "traceback": [
      "\u001b[31m---------------------------------------------------------------------------\u001b[39m\n",
      "\u001b[31mHTTPError\u001b[39m                                 Traceback (most recent call last)\n",
      "\u001b[36mCell\u001b[39m\u001b[36m \u001b[39m\u001b[32mIn[25]\u001b[39m\u001b[32m, line 11\u001b[39m\n",
      "\u001b[32m      6\u001b[39m params = {\n",
      "\u001b[32m      7\u001b[39m     \u001b[33m\"\u001b[39m\u001b[33mregion\u001b[39m\u001b[33m\"\u001b[39m: \u001b[33m\"\u001b[39m\u001b[33mCAISO_NORTH\u001b[39m\u001b[33m\"\u001b[39m,\n",
      "\u001b[32m      8\u001b[39m     \u001b[33m\"\u001b[39m\u001b[33msignal_type\u001b[39m\u001b[33m\"\u001b[39m: \u001b[33m\"\u001b[39m\u001b[33mco2_moer\u001b[39m\u001b[33m\"\u001b[39m,\n",
      "\u001b[32m      9\u001b[39m }\n",
      "\u001b[32m     10\u001b[39m response = requests.get(url, headers=headers, params=params)\n",
      "\u001b[32m---> \u001b[39m\u001b[32m11\u001b[39m \u001b[43mresponse\u001b[49m\u001b[43m.\u001b[49m\u001b[43mraise_for_status\u001b[49m\u001b[43m(\u001b[49m\u001b[43m)\u001b[49m\n",
      "\u001b[32m     12\u001b[39m \u001b[38;5;28mprint\u001b[39m(response.json())\n",
      "\n",
      "\u001b[36mFile \u001b[39m\u001b[32m/opt/miniconda3/envs/geods-base/lib/python3.13/site-packages/requests/models.py:1026\u001b[39m, in \u001b[36mResponse.raise_for_status\u001b[39m\u001b[34m(self)\u001b[39m\n",
      "\u001b[32m   1021\u001b[39m     http_error_msg = (\n",
      "\u001b[32m   1022\u001b[39m         \u001b[33mf\u001b[39m\u001b[33m\"\u001b[39m\u001b[38;5;132;01m{\u001b[39;00m\u001b[38;5;28mself\u001b[39m.status_code\u001b[38;5;132;01m}\u001b[39;00m\u001b[33m Server Error: \u001b[39m\u001b[38;5;132;01m{\u001b[39;00mreason\u001b[38;5;132;01m}\u001b[39;00m\u001b[33m for url: \u001b[39m\u001b[38;5;132;01m{\u001b[39;00m\u001b[38;5;28mself\u001b[39m.url\u001b[38;5;132;01m}\u001b[39;00m\u001b[33m\"\u001b[39m\n",
      "\u001b[32m   1023\u001b[39m     )\n",
      "\u001b[32m   1025\u001b[39m \u001b[38;5;28;01mif\u001b[39;00m http_error_msg:\n",
      "\u001b[32m-> \u001b[39m\u001b[32m1026\u001b[39m     \u001b[38;5;28;01mraise\u001b[39;00m HTTPError(http_error_msg, response=\u001b[38;5;28mself\u001b[39m)\n",
      "\n",
      "\u001b[31mHTTPError\u001b[39m: 401 Client Error: Unauthorized for url: https://api.watttime.org/v3/forecast?region=CAISO_NORTH&signal_type=co2_moer"
     ]
    }
   ],
   "source": [
    "# url = \"https://api.watttime.org/v3/forecast\"\n",
    "\n",
    "# # Provide your TOKEN here, see https://docs.watttime.org/#tag/Authentication/operation/get_token_login_get for more information\n",
    "# TOKEN = \"\"\n",
    "# headers = {\"Authorization\": f\"Bearer {TOKEN}\"}\n",
    "# params = {\n",
    "#     \"region\": \"CAISO_NORTH\",\n",
    "#     \"signal_type\": \"co2_moer\",\n",
    "# }\n",
    "# response = requests.get(url, headers=headers, params=params)\n",
    "# response.raise_for_status()\n",
    "# print(response.json())"
   ]
  }
 ],
 "metadata": {
  "language_info": {
   "name": "python"
  }
 },
 "nbformat": 4,
 "nbformat_minor": 5
}
